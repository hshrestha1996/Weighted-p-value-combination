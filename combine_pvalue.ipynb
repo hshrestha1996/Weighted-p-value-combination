{
 "cells": [
  {
   "cell_type": "code",
   "execution_count": 72,
   "id": "528dce27",
   "metadata": {},
   "outputs": [],
   "source": [
    "import pandas as pd\n",
    "from scipy.stats import combine_pvalues"
   ]
  },
  {
   "cell_type": "code",
   "execution_count": 73,
   "id": "b974a39f",
   "metadata": {},
   "outputs": [],
   "source": [
    "BanSun = pd.read_excel(\"Example_DEresult1.xlsx\")\n",
    "MtSin = pd.read_excel(\"Example_DEresult3.xlsx\")\n",
    "Emory = pd.read_excel(\"Example_DEresult2.xlsx\")"
   ]
  },
  {
   "cell_type": "code",
   "execution_count": 74,
   "id": "5941d86a",
   "metadata": {},
   "outputs": [],
   "source": [
    "combine_df = BanSun.merge(MtSin, on = \"Identifier\", how=\"inner\").merge(Emory, on = \"Identifier\", how=\"inner\")\n",
    "combine_df = combine_df[~(combine_df.Identifier.str.contains(\"co.\")|combine_df.Identifier.str.contains(\"cu.\"))]\n",
    "combine_df = combine_df.set_index(\"Identifier\")\n",
    "gene = combine_df[['GN']]"
   ]
  },
  {
   "cell_type": "code",
   "execution_count": 75,
   "id": "67bd2aa3",
   "metadata": {},
   "outputs": [],
   "source": [
    "df = combine_df.iloc[:,combine_df.columns.str.contains(\"AD\")& ~combine_df.columns.str.contains(\"AsymAD\")& ~combine_df.columns.str.contains(\"adj.P.Val\")]"
   ]
  },
  {
   "cell_type": "code",
   "execution_count": 76,
   "id": "dad06094",
   "metadata": {},
   "outputs": [],
   "source": [
    "df.columns = ['AD-Ctl_logFC_BanSun', 'AD-Ctl_P.Value_BanSun', 'AD-Ctl_logFC_MtSinai', 'AD-Ctl_P.Value_MtSinai',\n",
    "       'AD-Ctl_logFC_Emory', 'AD-Ctl_P.Value_Emory']"
   ]
  },
  {
   "cell_type": "code",
   "execution_count": 78,
   "id": "14263d7f",
   "metadata": {},
   "outputs": [],
   "source": [
    "# Convert two-tailed p-value to one-tailed p-value for positive trend\n",
    "def two_to_one_tailed_pos(p_value, logFC):\n",
    "    if logFC > 0:\n",
    "        return p_value / 2\n",
    "    else:\n",
    "        return (1 - p_value / 2)\n",
    "\n",
    "# Convert two-tailed p-value to one-tailed p-value for negative trend\n",
    "def two_to_one_tailed_neg(p_value, logFC):\n",
    "    if logFC < 0:\n",
    "        return p_value / 2\n",
    "    else:\n",
    "        return (1 - p_value / 2)\n",
    "\n",
    "# Function to apply the appropriate one-tailed conversion based on FC trend\n",
    "def apply_conversion(row, p_value_col, logFC_col):\n",
    "    if row['FCtrend'] > 0:\n",
    "        return two_to_one_tailed_pos(row[p_value_col], row[logFC_col])\n",
    "    else:\n",
    "        return two_to_one_tailed_neg(row[p_value_col], row[logFC_col])\n",
    "\n",
    "# Combine p-values using Fisher's method\n",
    "def combine_pvalues_fisher(pvalues):\n",
    "    return combine_pvalues(pvalues, method='fisher')[1]"
   ]
  },
  {
   "cell_type": "code",
   "execution_count": 79,
   "id": "e02f0dea",
   "metadata": {
    "scrolled": true
   },
   "outputs": [
    {
     "name": "stderr",
     "output_type": "stream",
     "text": [
      "C:\\Users\\hshresth\\AppData\\Local\\Temp\\ipykernel_19064\\1694680959.py:2: SettingWithCopyWarning: \n",
      "A value is trying to be set on a copy of a slice from a DataFrame.\n",
      "Try using .loc[row_indexer,col_indexer] = value instead\n",
      "\n",
      "See the caveats in the documentation: https://pandas.pydata.org/pandas-docs/stable/user_guide/indexing.html#returning-a-view-versus-a-copy\n",
      "  df['FCtrend'] = df.loc[:, df.columns.str.contains(\"logFC\")].mean(axis=1)\n",
      "C:\\Users\\hshresth\\AppData\\Local\\Temp\\ipykernel_19064\\1694680959.py:5: SettingWithCopyWarning: \n",
      "A value is trying to be set on a copy of a slice from a DataFrame.\n",
      "Try using .loc[row_indexer,col_indexer] = value instead\n",
      "\n",
      "See the caveats in the documentation: https://pandas.pydata.org/pandas-docs/stable/user_guide/indexing.html#returning-a-view-versus-a-copy\n",
      "  df['One_Tailed_P.Value_BanSun'] = df.apply(lambda row: apply_conversion(row, 'AD-Ctl_P.Value_BanSun', 'AD-Ctl_logFC_BanSun'), axis=1)\n",
      "C:\\Users\\hshresth\\AppData\\Local\\Temp\\ipykernel_19064\\1694680959.py:6: SettingWithCopyWarning: \n",
      "A value is trying to be set on a copy of a slice from a DataFrame.\n",
      "Try using .loc[row_indexer,col_indexer] = value instead\n",
      "\n",
      "See the caveats in the documentation: https://pandas.pydata.org/pandas-docs/stable/user_guide/indexing.html#returning-a-view-versus-a-copy\n",
      "  df['One_Tailed_P.Value_MtSinai'] = df.apply(lambda row: apply_conversion(row, 'AD-Ctl_P.Value_MtSinai', 'AD-Ctl_logFC_MtSinai'), axis=1)\n",
      "C:\\Users\\hshresth\\AppData\\Local\\Temp\\ipykernel_19064\\1694680959.py:7: SettingWithCopyWarning: \n",
      "A value is trying to be set on a copy of a slice from a DataFrame.\n",
      "Try using .loc[row_indexer,col_indexer] = value instead\n",
      "\n",
      "See the caveats in the documentation: https://pandas.pydata.org/pandas-docs/stable/user_guide/indexing.html#returning-a-view-versus-a-copy\n",
      "  df['One_Tailed_P.Value_Emory'] = df.apply(lambda row: apply_conversion(row, 'AD-Ctl_P.Value_Emory', 'AD-Ctl_logFC_Emory'), axis=1)\n",
      "C:\\Users\\hshresth\\AppData\\Local\\Temp\\ipykernel_19064\\1694680959.py:11: SettingWithCopyWarning: \n",
      "A value is trying to be set on a copy of a slice from a DataFrame.\n",
      "Try using .loc[row_indexer,col_indexer] = value instead\n",
      "\n",
      "See the caveats in the documentation: https://pandas.pydata.org/pandas-docs/stable/user_guide/indexing.html#returning-a-view-versus-a-copy\n",
      "  df['Combined_P.Value'] = df.apply(lambda row: combine_pvalues_fisher([\n"
     ]
    }
   ],
   "source": [
    "# Calculate the mean logFC trend for each row\n",
    "df['FCtrend'] = df.loc[:, df.columns.str.contains(\"logFC\")].mean(axis=1)\n",
    "\n",
    "# Apply the appropriate one-tailed conversion function for each p-value column\n",
    "df['One_Tailed_P.Value_BanSun'] = df.apply(lambda row: apply_conversion(row, 'AD-Ctl_P.Value_BanSun', 'AD-Ctl_logFC_BanSun'), axis=1)\n",
    "df['One_Tailed_P.Value_MtSinai'] = df.apply(lambda row: apply_conversion(row, 'AD-Ctl_P.Value_MtSinai', 'AD-Ctl_logFC_MtSinai'), axis=1)\n",
    "df['One_Tailed_P.Value_Emory'] = df.apply(lambda row: apply_conversion(row, 'AD-Ctl_P.Value_Emory', 'AD-Ctl_logFC_Emory'), axis=1)\n",
    "\n",
    "\n",
    "# Combine the one-tailed p-values\n",
    "df['Combined_P.Value'] = df.apply(lambda row: combine_pvalues_fisher([\n",
    "    row['One_Tailed_P.Value_BanSun'], \n",
    "    row['One_Tailed_P.Value_MtSinai'], \n",
    "    row['One_Tailed_P.Value_Emory']]), axis=1)\n"
   ]
  },
  {
   "cell_type": "code",
   "execution_count": 80,
   "id": "27554de0",
   "metadata": {},
   "outputs": [],
   "source": [
    "import statsmodels.stats.multitest as smm"
   ]
  },
  {
   "cell_type": "code",
   "execution_count": 81,
   "id": "05fbc35c",
   "metadata": {},
   "outputs": [
    {
     "name": "stderr",
     "output_type": "stream",
     "text": [
      "C:\\Users\\hshresth\\AppData\\Local\\Temp\\ipykernel_19064\\2550239702.py:1: SettingWithCopyWarning: \n",
      "A value is trying to be set on a copy of a slice from a DataFrame.\n",
      "Try using .loc[row_indexer,col_indexer] = value instead\n",
      "\n",
      "See the caveats in the documentation: https://pandas.pydata.org/pandas-docs/stable/user_guide/indexing.html#returning-a-view-versus-a-copy\n",
      "  df['BH_Corrected_P.Value'] = smm.multipletests(df['Combined_P.Value'], method='fdr_bh')[1]\n"
     ]
    }
   ],
   "source": [
    "df['BH_Corrected_P.Value'] = smm.multipletests(df['Combined_P.Value'], method='fdr_bh')[1]"
   ]
  },
  {
   "cell_type": "code",
   "execution_count": 89,
   "id": "14ede09f",
   "metadata": {},
   "outputs": [],
   "source": [
    "df = gene.merge(df, left_index=True, right_index=True, how=\"outer\")"
   ]
  },
  {
   "cell_type": "code",
   "execution_count": 90,
   "id": "b5317fd4",
   "metadata": {},
   "outputs": [],
   "source": [
    "df.to_csv(\"Combined_DE_AD_cohorts.csv\")"
   ]
  },
  {
   "cell_type": "code",
   "execution_count": null,
   "id": "fe9926e7",
   "metadata": {},
   "outputs": [],
   "source": []
  }
 ],
 "metadata": {
  "kernelspec": {
   "display_name": "Python 3 (ipykernel)",
   "language": "python",
   "name": "python3"
  },
  "language_info": {
   "codemirror_mode": {
    "name": "ipython",
    "version": 3
   },
   "file_extension": ".py",
   "mimetype": "text/x-python",
   "name": "python",
   "nbconvert_exporter": "python",
   "pygments_lexer": "ipython3",
   "version": "3.8.16"
  }
 },
 "nbformat": 4,
 "nbformat_minor": 5
}
